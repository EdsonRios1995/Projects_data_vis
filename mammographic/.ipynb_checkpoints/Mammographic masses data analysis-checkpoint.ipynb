{
 "cells": [
  {
   "cell_type": "markdown",
   "metadata": {
    "deletable": true,
    "editable": true
   },
   "source": [
    "# Data analysis for predicting whether a mammogram is benign or malignant\n",
    "\n",
    "For this analysis the \"mammographic masses\" public dataset from the UCI repository (source: https://archive.ics.uci.edu/ml/datasets/Mammographic+Mass) was utilized.\n",
    "\n"
   ]
  },
  {
   "cell_type": "markdown",
   "metadata": {
    "deletable": true,
    "editable": true
   },
   "source": [
    "# Data Set Information:\n",
    "\n",
    "Mammography is the most effective method for breast cancer screening available today. However, the low positive predictive value of breast biopsy resulting from mammogram interpretation leads to approximately \n",
    "70% unnecessary biopsies with benign outcomes. To reduce the high number of unnecessary breast biopsies, several computer-aided diagnosis (CAD) systems have been proposed in the last years.These systems help physicians in their decision to perform a breast biopsy on a suspicious lesion seen in a mammogram or to perform a short term follow-up examination instead. \n",
    "\n",
    "Each instance has an associated BI-RADS assessment ranging from 1 (definitely benign) to 5 (highly suggestive of malignancy) assigned in a double-review process by physicians. Assuming that all cases with BI-RADS assessments greater or equal \n",
    "a given value (varying from 1 to 5), are malignant and the other cases benign, sensitivities and associated specificities can be calculated. These can be an indication of how well a CAD system performs compared to the radiologists. \n",
    "\n",
    "Class Distribution: benign: 516; malignant: 445 \n",
    "\n",
    "\n",
    "# Attribute Information:\n",
    "\n",
    "6 Attributes in total (1 goal field, 1 non-predictive, 4 predictive attributes) \n",
    "\n",
    "1. BI-RADS assessment: 1 to 5 (ordinal, non-predictive!) \n",
    "(BI-RADS stands for Breast Imaging Reporting and Data System and was established by the American College of Radiology)\n",
    "2. Age: patient's age in years (integer) \n",
    "3. Shape: mass shape: round=1 oval=2 lobular=3 irregular=4 (nominal) \n",
    "4. Margin: mass margin: circumscribed=1 microlobulated=2 obscured=3 ill-defined=4 spiculated=5 (nominal) \n",
    "5. Density: mass density high=1 iso=2 low=3 fat-containing=4 (ordinal) \n",
    "6. Severity: benign=0 or malignant=1 (binominal, goal field!) \n",
    "\n",
    "\n",
    "# Missing Attribute Values: \n",
    "- BI-RADS assessment: 2 \n",
    "- Age: 5 \n",
    "- Shape: 31 \n",
    "- Margin: 48 \n",
    "- Density: 76 \n",
    "- Severity: 0 "
   ]
  },
  {
   "cell_type": "markdown",
   "metadata": {
    "deletable": true,
    "editable": true
   },
   "source": [
    "# Some Useful methods and libraries:"
   ]
  },
  {
   "cell_type": "code",
   "execution_count": null,
   "metadata": {
    "collapsed": true,
    "deletable": true,
    "editable": true
   },
   "outputs": [],
   "source": [
    "import pandas as pd\n",
    "import numpy as np\n",
    "from sklearn.preprocessing import StandardScaler, MinMaxScaler\n",
    "from sklearn.model_selection import cross_val_score, train_test_split"
   ]
  }
 ],
 "metadata": {
  "kernelspec": {
   "display_name": "Python 3",
   "language": "python",
   "name": "python3"
  },
  "language_info": {
   "codemirror_mode": {
    "name": "ipython",
    "version": 3
   },
   "file_extension": ".py",
   "mimetype": "text/x-python",
   "name": "python",
   "nbconvert_exporter": "python",
   "pygments_lexer": "ipython3",
   "version": "3.5.2"
  }
 },
 "nbformat": 4,
 "nbformat_minor": 2
}
